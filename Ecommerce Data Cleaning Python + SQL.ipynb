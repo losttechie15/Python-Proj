{
 "cells": [
  {
   "cell_type": "code",
   "execution_count": 2,
   "id": "2540034b-9a1a-49a1-b09a-c1720da50720",
   "metadata": {},
   "outputs": [
    {
     "name": "stdout",
     "output_type": "stream",
     "text": [
      "Defaulting to user installation because normal site-packages is not writeable\n",
      "Collecting mysql-connector-python\n",
      "  Downloading mysql_connector_python-9.3.0-cp312-cp312-win_amd64.whl.metadata (7.7 kB)\n",
      "Downloading mysql_connector_python-9.3.0-cp312-cp312-win_amd64.whl (16.4 MB)\n",
      "   ---------------------------------------- 0.0/16.4 MB ? eta -:--:--\n",
      "   - -------------------------------------- 0.8/16.4 MB 6.7 MB/s eta 0:00:03\n",
      "   --- ------------------------------------ 1.3/16.4 MB 3.4 MB/s eta 0:00:05\n",
      "   ----- ---------------------------------- 2.1/16.4 MB 3.4 MB/s eta 0:00:05\n",
      "   -------- ------------------------------- 3.4/16.4 MB 4.2 MB/s eta 0:00:04\n",
      "   ----------- ---------------------------- 4.7/16.4 MB 4.4 MB/s eta 0:00:03\n",
      "   ------------- -------------------------- 5.5/16.4 MB 4.5 MB/s eta 0:00:03\n",
      "   ----------------- ---------------------- 7.1/16.4 MB 4.8 MB/s eta 0:00:02\n",
      "   -------------------- ------------------- 8.4/16.4 MB 4.9 MB/s eta 0:00:02\n",
      "   ----------------------- ---------------- 9.4/16.4 MB 5.0 MB/s eta 0:00:02\n",
      "   -------------------------- ------------- 10.7/16.4 MB 5.2 MB/s eta 0:00:02\n",
      "   ----------------------------- ---------- 12.1/16.4 MB 5.2 MB/s eta 0:00:01\n",
      "   -------------------------------- ------- 13.1/16.4 MB 5.2 MB/s eta 0:00:01\n",
      "   ---------------------------------- ----- 14.2/16.4 MB 5.2 MB/s eta 0:00:01\n",
      "   ------------------------------------- -- 15.5/16.4 MB 5.3 MB/s eta 0:00:01\n",
      "   ---------------------------------------  16.3/16.4 MB 5.2 MB/s eta 0:00:01\n",
      "   ---------------------------------------- 16.4/16.4 MB 5.0 MB/s eta 0:00:00\n",
      "Installing collected packages: mysql-connector-python\n",
      "Successfully installed mysql-connector-python-9.3.0\n",
      "Note: you may need to restart the kernel to use updated packages.\n"
     ]
    }
   ],
   "source": [
    "pip install mysql-connector-python"
   ]
  },
  {
   "cell_type": "code",
   "execution_count": 7,
   "id": "660ba199-2678-4a38-99c8-07bd7784fb97",
   "metadata": {},
   "outputs": [
    {
     "name": "stdout",
     "output_type": "stream",
     "text": [
      "Processing order_items.csv\n",
      "NaN values before replacement:\n",
      "order_id               0\n",
      "order_item_id          0\n",
      "product_id             0\n",
      "seller_id              0\n",
      "shipping_limit_date    0\n",
      "price                  0\n",
      "freight_value          0\n",
      "dtype: int64\n",
      "\n"
     ]
    }
   ],
   "source": [
    "import pandas as pd\n",
    "import mysql.connector\n",
    "import os\n",
    "\n",
    "# List of CSV files and their corresponding table names\n",
    "csv_files = [\n",
    "    ('order_items.csv','order_items')# Added payments.csv for specific handling\n",
    "]\n",
    "\n",
    "# Connect to the MySQL database\n",
    "conn = mysql.connector.connect(\n",
    "    host='localhost',\n",
    "    user='root',\n",
    "    password='Abhisek15@',\n",
    "    database='interview'\n",
    ")\n",
    "cursor = conn.cursor()\n",
    "\n",
    "# Folder containing the CSV files\n",
    "folder_path = 'C:/Users/lenovo/OneDrive/Desktop/Abhisek P/datasets-20250327T075344Z-001/datasets/E commerce datasets'\n",
    "\n",
    "def get_sql_type(dtype):\n",
    "    if pd.api.types.is_integer_dtype(dtype):\n",
    "        return 'INT'\n",
    "    elif pd.api.types.is_float_dtype(dtype):\n",
    "        return 'FLOAT'\n",
    "    elif pd.api.types.is_bool_dtype(dtype):\n",
    "        return 'BOOLEAN'\n",
    "    elif pd.api.types.is_datetime64_any_dtype(dtype):\n",
    "        return 'DATETIME'\n",
    "    else:\n",
    "        return 'TEXT'\n",
    "\n",
    "for csv_file, table_name in csv_files:\n",
    "    file_path = os.path.join(folder_path, csv_file)\n",
    "    \n",
    "    # Read the CSV file into a pandas DataFrame\n",
    "    df = pd.read_csv(file_path)\n",
    "    \n",
    "    # Replace NaN with None to handle SQL NULL\n",
    "    df = df.where(pd.notnull(df), None)\n",
    "    \n",
    "    # Debugging: Check for NaN values\n",
    "    print(f\"Processing {csv_file}\")\n",
    "    print(f\"NaN values before replacement:\\n{df.isnull().sum()}\\n\")\n",
    "\n",
    "    # Clean column names\n",
    "    df.columns = [col.replace(' ', '_').replace('-', '_').replace('.', '_') for col in df.columns]\n",
    "\n",
    "    # Generate the CREATE TABLE statement with appropriate data types\n",
    "    columns = ', '.join([f'`{col}` {get_sql_type(df[col].dtype)}' for col in df.columns])\n",
    "    create_table_query = f'CREATE TABLE IF NOT EXISTS `{table_name}` ({columns})'\n",
    "    cursor.execute(create_table_query)\n",
    "\n",
    "    # Insert DataFrame data into the MySQL table\n",
    "    for _, row in df.iterrows():\n",
    "        # Convert row to tuple and handle NaN/None explicitly\n",
    "        values = tuple(None if pd.isna(x) else x for x in row)\n",
    "        sql = f\"INSERT INTO `{table_name}` ({', '.join(['`' + col + '`' for col in df.columns])}) VALUES ({', '.join(['%s'] * len(row))})\"\n",
    "        cursor.execute(sql, values)\n",
    "\n",
    "    # Commit the transaction for the current CSV file\n",
    "    conn.commit()\n",
    "\n",
    "# Close the connection\n",
    "conn.close()"
   ]
  },
  {
   "cell_type": "code",
   "execution_count": 1,
   "id": "e979e130-52c3-48ab-b517-46e0785c660e",
   "metadata": {},
   "outputs": [],
   "source": [
    "import pandas as pd\n",
    "import matplotlib.pyplot as plt\n",
    "import seaborn as sns\n",
    "import mysql.connector\n",
    "\n",
    "\n",
    "db = mysql.connector.connect(host = \"localhost\",\n",
    "                            username = \"root\",\n",
    "                            password = \"Abhisek15@\",\n",
    "                            database = \"interview\")\n",
    "\n",
    "cur = db.cursor()"
   ]
  },
  {
   "cell_type": "markdown",
   "id": "b0d51607-18e0-499a-b518-883d2f2f96a2",
   "metadata": {},
   "source": [
    "# List all unique cities where customers are located."
   ]
  },
  {
   "cell_type": "code",
   "execution_count": 12,
   "id": "a362ee45-851d-464d-9edf-ea39abc81e66",
   "metadata": {},
   "outputs": [
    {
     "data": {
      "text/html": [
       "<div>\n",
       "<style scoped>\n",
       "    .dataframe tbody tr th:only-of-type {\n",
       "        vertical-align: middle;\n",
       "    }\n",
       "\n",
       "    .dataframe tbody tr th {\n",
       "        vertical-align: top;\n",
       "    }\n",
       "\n",
       "    .dataframe thead th {\n",
       "        text-align: right;\n",
       "    }\n",
       "</style>\n",
       "<table border=\"1\" class=\"dataframe\">\n",
       "  <thead>\n",
       "    <tr style=\"text-align: right;\">\n",
       "      <th></th>\n",
       "      <th>0</th>\n",
       "    </tr>\n",
       "  </thead>\n",
       "  <tbody>\n",
       "    <tr>\n",
       "      <th>0</th>\n",
       "      <td>franca</td>\n",
       "    </tr>\n",
       "    <tr>\n",
       "      <th>1</th>\n",
       "      <td>sao bernardo do campo</td>\n",
       "    </tr>\n",
       "    <tr>\n",
       "      <th>2</th>\n",
       "      <td>sao paulo</td>\n",
       "    </tr>\n",
       "    <tr>\n",
       "      <th>3</th>\n",
       "      <td>mogi das cruzes</td>\n",
       "    </tr>\n",
       "    <tr>\n",
       "      <th>4</th>\n",
       "      <td>campinas</td>\n",
       "    </tr>\n",
       "    <tr>\n",
       "      <th>...</th>\n",
       "      <td>...</td>\n",
       "    </tr>\n",
       "    <tr>\n",
       "      <th>4114</th>\n",
       "      <td>siriji</td>\n",
       "    </tr>\n",
       "    <tr>\n",
       "      <th>4115</th>\n",
       "      <td>natividade da serra</td>\n",
       "    </tr>\n",
       "    <tr>\n",
       "      <th>4116</th>\n",
       "      <td>monte bonito</td>\n",
       "    </tr>\n",
       "    <tr>\n",
       "      <th>4117</th>\n",
       "      <td>sao rafael</td>\n",
       "    </tr>\n",
       "    <tr>\n",
       "      <th>4118</th>\n",
       "      <td>eugenio de castro</td>\n",
       "    </tr>\n",
       "  </tbody>\n",
       "</table>\n",
       "<p>4119 rows × 1 columns</p>\n",
       "</div>"
      ],
      "text/plain": [
       "                          0\n",
       "0                    franca\n",
       "1     sao bernardo do campo\n",
       "2                 sao paulo\n",
       "3           mogi das cruzes\n",
       "4                  campinas\n",
       "...                     ...\n",
       "4114                 siriji\n",
       "4115    natividade da serra\n",
       "4116           monte bonito\n",
       "4117             sao rafael\n",
       "4118      eugenio de castro\n",
       "\n",
       "[4119 rows x 1 columns]"
      ]
     },
     "execution_count": 12,
     "metadata": {},
     "output_type": "execute_result"
    }
   ],
   "source": [
    "query = \"\"\" select distinct customer_city from customers \"\"\"\n",
    "cur.execute(query)\n",
    "data = cur.fetchall()\n",
    "\n",
    "df = pd.DataFrame(data)\n",
    "df"
   ]
  },
  {
   "cell_type": "markdown",
   "id": "2f5951b3-a5e0-428e-8457-07244d97116d",
   "metadata": {},
   "source": [
    "# Count the number of orders placed in 2017."
   ]
  },
  {
   "cell_type": "code",
   "execution_count": 16,
   "id": "cc70adf8-d449-4fbb-836c-f6c988646349",
   "metadata": {},
   "outputs": [
    {
     "data": {
      "text/plain": [
       "45101"
      ]
     },
     "execution_count": 16,
     "metadata": {},
     "output_type": "execute_result"
    }
   ],
   "source": [
    "query = \"\"\" select count(order_id) from orders2 where year(order_purchase_timestamp) = 2017 \"\"\"\n",
    "\n",
    "cur.execute(query)\n",
    "data = cur.fetchall()\n",
    "data[0][0]\n"
   ]
  },
  {
   "cell_type": "markdown",
   "id": "918e276a-b3c1-4aa0-ad84-2bef792c5ee0",
   "metadata": {},
   "source": [
    "# Find the total sales per category."
   ]
  },
  {
   "cell_type": "code",
   "execution_count": 19,
   "id": "0c4b9c2f-2171-42e1-b869-1b7f4ddef52f",
   "metadata": {},
   "outputs": [
    {
     "data": {
      "text/html": [
       "<div>\n",
       "<style scoped>\n",
       "    .dataframe tbody tr th:only-of-type {\n",
       "        vertical-align: middle;\n",
       "    }\n",
       "\n",
       "    .dataframe tbody tr th {\n",
       "        vertical-align: top;\n",
       "    }\n",
       "\n",
       "    .dataframe thead th {\n",
       "        text-align: right;\n",
       "    }\n",
       "</style>\n",
       "<table border=\"1\" class=\"dataframe\">\n",
       "  <thead>\n",
       "    <tr style=\"text-align: right;\">\n",
       "      <th></th>\n",
       "      <th>Category</th>\n",
       "      <th>Sales</th>\n",
       "    </tr>\n",
       "  </thead>\n",
       "  <tbody>\n",
       "    <tr>\n",
       "      <th>0</th>\n",
       "      <td>PERFUMERY</td>\n",
       "      <td>506738.66</td>\n",
       "    </tr>\n",
       "    <tr>\n",
       "      <th>1</th>\n",
       "      <td>FURNITURE DECORATION</td>\n",
       "      <td>1430176.39</td>\n",
       "    </tr>\n",
       "    <tr>\n",
       "      <th>2</th>\n",
       "      <td>TELEPHONY</td>\n",
       "      <td>486882.05</td>\n",
       "    </tr>\n",
       "    <tr>\n",
       "      <th>3</th>\n",
       "      <td>BED TABLE BATH</td>\n",
       "      <td>1712553.67</td>\n",
       "    </tr>\n",
       "    <tr>\n",
       "      <th>4</th>\n",
       "      <td>AUTOMOTIVE</td>\n",
       "      <td>852294.33</td>\n",
       "    </tr>\n",
       "    <tr>\n",
       "      <th>...</th>\n",
       "      <td>...</td>\n",
       "      <td>...</td>\n",
       "    </tr>\n",
       "    <tr>\n",
       "      <th>69</th>\n",
       "      <td>CDS MUSIC DVDS</td>\n",
       "      <td>1199.43</td>\n",
       "    </tr>\n",
       "    <tr>\n",
       "      <th>70</th>\n",
       "      <td>LA CUISINE</td>\n",
       "      <td>2913.53</td>\n",
       "    </tr>\n",
       "    <tr>\n",
       "      <th>71</th>\n",
       "      <td>FASHION CHILDREN'S CLOTHING</td>\n",
       "      <td>785.67</td>\n",
       "    </tr>\n",
       "    <tr>\n",
       "      <th>72</th>\n",
       "      <td>PC GAMER</td>\n",
       "      <td>2174.43</td>\n",
       "    </tr>\n",
       "    <tr>\n",
       "      <th>73</th>\n",
       "      <td>INSURANCE AND SERVICES</td>\n",
       "      <td>324.51</td>\n",
       "    </tr>\n",
       "  </tbody>\n",
       "</table>\n",
       "<p>74 rows × 2 columns</p>\n",
       "</div>"
      ],
      "text/plain": [
       "                       Category       Sales\n",
       "0                     PERFUMERY   506738.66\n",
       "1          FURNITURE DECORATION  1430176.39\n",
       "2                     TELEPHONY   486882.05\n",
       "3                BED TABLE BATH  1712553.67\n",
       "4                    AUTOMOTIVE   852294.33\n",
       "..                          ...         ...\n",
       "69               CDS MUSIC DVDS     1199.43\n",
       "70                   LA CUISINE     2913.53\n",
       "71  FASHION CHILDREN'S CLOTHING      785.67\n",
       "72                     PC GAMER     2174.43\n",
       "73       INSURANCE AND SERVICES      324.51\n",
       "\n",
       "[74 rows x 2 columns]"
      ]
     },
     "execution_count": 19,
     "metadata": {},
     "output_type": "execute_result"
    }
   ],
   "source": [
    "query = \"\"\" select upper(p1.product_category) as category, \n",
    "round(sum(p.payment_value),2) as sales\n",
    "from products1 p1 join order_items \n",
    "on p1.product_id = order_items.product_id\n",
    "join payments p \n",
    "on p.order_id = order_items.order_id\n",
    "group by category\n",
    "\"\"\"\n",
    "\n",
    "cur.execute(query)\n",
    "\n",
    "data = cur.fetchall()\n",
    "df = pd.DataFrame(data,columns = [\"Category\",\"Sales\"])\n",
    "df"
   ]
  },
  {
   "cell_type": "markdown",
   "id": "90baa94c-b206-40b7-9ba1-6e61875ade26",
   "metadata": {},
   "source": [
    "# Calculate the percentage of orders that were paid in installments."
   ]
  },
  {
   "cell_type": "code",
   "execution_count": 2,
   "id": "63f45f38-dc2f-4e70-80e9-442a79c790b8",
   "metadata": {},
   "outputs": [
    {
     "data": {
      "text/plain": [
       "('the percentage of orders that were paid in installments is',\n",
       " Decimal('99.9981'))"
      ]
     },
     "execution_count": 2,
     "metadata": {},
     "output_type": "execute_result"
    }
   ],
   "source": [
    "query = \"\"\" select ((sum(case when payment_installments >= 1 then 1\n",
    "else 0 end))/count(*))*100 from payments\n",
    "\"\"\"\n",
    "\n",
    "cur.execute(query)\n",
    "\n",
    "data = cur.fetchall()\n",
    "\n",
    "\"the percentage of orders that were paid in installments is\", data[0][0]"
   ]
  },
  {
   "cell_type": "markdown",
   "id": "f6100e9f-e9e8-4080-9395-dfb3f4d55dec",
   "metadata": {},
   "source": [
    "# Count the number of customers from each state."
   ]
  },
  {
   "cell_type": "code",
   "execution_count": 11,
   "id": "c265eed0-f2a1-4301-81ba-35e1cc948a1a",
   "metadata": {},
   "outputs": [
    {
     "data": {
      "image/png": "[encoded data removed]",
      "text/plain": [
       "<Figure size 800x300 with 1 Axes>"
      ]
     },
     "metadata": {},
     "output_type": "display_data"
    }
   ],
   "source": [
    "query = \"\"\" select customer_state,count(customer_id)\n",
    "            from customers\n",
    "            group by customer_state\"\"\"\n",
    "\n",
    "cur.execute(query)\n",
    "data = cur.fetchall()\n",
    "df = pd.DataFrame(data,columns = [\"Customer_State\",\"No_of_Customer\"])\n",
    "df = df.sort_values(by = \"No_of_Customer\",ascending=False)\n",
    "plt.figure(figsize = (8,3))\n",
    "plt.bar(df[\"Customer_State\"],df[\"No_of_Customer\"])\n",
    "plt.xticks(rotation = 90)\n",
    "plt.xlabel(\"states\")\n",
    "plt.ylabel(\"customer_count\")\n",
    "plt.title(\"Count of Customers by States\")\n",
    "plt.show()"
   ]
  },
  {
   "cell_type": "markdown",
   "id": "411fb2d0-8032-4121-9e65-419a2b98316f",
   "metadata": {},
   "source": [
    "# Calculate the number of orders per month in 2018."
   ]
  },
  {
   "cell_type": "code",
   "execution_count": 17,
   "id": "d18338b1-ec7e-4c05-a8c4-fc24c64ea7ae",
   "metadata": {},
   "outputs": [
    {
     "data": {
      "image/png": "[encoded data removed]",
      "text/plain": [
       "<Figure size 640x480 with 1 Axes>"
      ]
     },
     "metadata": {},
     "output_type": "display_data"
    }
   ],
   "source": [
    "query = \"\"\"select monthname(order_purchase_timestamp) as months,count(order_id) as count\n",
    "from orders2\n",
    "where year(order_purchase_timestamp) = 2018\n",
    "group by months\n",
    "order by months\"\"\"\n",
    "\n",
    "cur.execute(query)\n",
    "data = cur.fetchall()\n",
    "df = pd.DataFrame(data,columns=[\"months\",\"count\"])\n",
    "o = [\"January\", \"February\",\"March\",\"April\",\"May\",\"June\",\"July\",\"August\",\"September\",\"October\"]\n",
    "ax = sns.barplot(x = df[\"months\"],y =  df[\"count\"], data = df, order = o, color = \"red\")\n",
    "plt.xticks(rotation=45)\n",
    "ax.bar_label(ax.containers[0])\n",
    "plt.title(\"Count of Orders by Months is 2018\")\n",
    "plt.show()"
   ]
  },
  {
   "cell_type": "markdown",
   "id": "26702ba0-0a9e-414f-bd06-90cf1e640e27",
   "metadata": {},
   "source": [
    "# Find the average number of products per order, grouped by customer city."
   ]
  },
  {
   "cell_type": "code",
   "execution_count": 14,
   "id": "0bc4a705-377e-47fd-9c94-40526c755fbc",
   "metadata": {},
   "outputs": [
    {
     "data": {
      "text/html": [
       "<div>\n",
       "<style scoped>\n",
       "    .dataframe tbody tr th:only-of-type {\n",
       "        vertical-align: middle;\n",
       "    }\n",
       "\n",
       "    .dataframe tbody tr th {\n",
       "        vertical-align: top;\n",
       "    }\n",
       "\n",
       "    .dataframe thead th {\n",
       "        text-align: right;\n",
       "    }\n",
       "</style>\n",
       "<table border=\"1\" class=\"dataframe\">\n",
       "  <thead>\n",
       "    <tr style=\"text-align: right;\">\n",
       "      <th></th>\n",
       "      <th>City</th>\n",
       "      <th>Avg_orders</th>\n",
       "    </tr>\n",
       "  </thead>\n",
       "  <tbody>\n",
       "    <tr>\n",
       "      <th>0</th>\n",
       "      <td>padre carvalho</td>\n",
       "      <td>7.00</td>\n",
       "    </tr>\n",
       "    <tr>\n",
       "      <th>1</th>\n",
       "      <td>celso ramos</td>\n",
       "      <td>6.50</td>\n",
       "    </tr>\n",
       "    <tr>\n",
       "      <th>2</th>\n",
       "      <td>candido godoi</td>\n",
       "      <td>6.00</td>\n",
       "    </tr>\n",
       "    <tr>\n",
       "      <th>3</th>\n",
       "      <td>datas</td>\n",
       "      <td>6.00</td>\n",
       "    </tr>\n",
       "    <tr>\n",
       "      <th>4</th>\n",
       "      <td>matias olimpio</td>\n",
       "      <td>5.00</td>\n",
       "    </tr>\n",
       "    <tr>\n",
       "      <th>...</th>\n",
       "      <td>...</td>\n",
       "      <td>...</td>\n",
       "    </tr>\n",
       "    <tr>\n",
       "      <th>4105</th>\n",
       "      <td>sebastiao leal</td>\n",
       "      <td>1.00</td>\n",
       "    </tr>\n",
       "    <tr>\n",
       "      <th>4106</th>\n",
       "      <td>morro agudo de goias</td>\n",
       "      <td>1.00</td>\n",
       "    </tr>\n",
       "    <tr>\n",
       "      <th>4107</th>\n",
       "      <td>santa filomena</td>\n",
       "      <td>1.00</td>\n",
       "    </tr>\n",
       "    <tr>\n",
       "      <th>4108</th>\n",
       "      <td>guamiranga</td>\n",
       "      <td>1.00</td>\n",
       "    </tr>\n",
       "    <tr>\n",
       "      <th>4109</th>\n",
       "      <td>padre paraiso</td>\n",
       "      <td>1.00</td>\n",
       "    </tr>\n",
       "  </tbody>\n",
       "</table>\n",
       "<p>4110 rows × 2 columns</p>\n",
       "</div>"
      ],
      "text/plain": [
       "                      City Avg_orders\n",
       "0           padre carvalho       7.00\n",
       "1              celso ramos       6.50\n",
       "2            candido godoi       6.00\n",
       "3                    datas       6.00\n",
       "4           matias olimpio       5.00\n",
       "...                    ...        ...\n",
       "4105        sebastiao leal       1.00\n",
       "4106  morro agudo de goias       1.00\n",
       "4107        santa filomena       1.00\n",
       "4108            guamiranga       1.00\n",
       "4109         padre paraiso       1.00\n",
       "\n",
       "[4110 rows x 2 columns]"
      ]
     },
     "execution_count": 14,
     "metadata": {},
     "output_type": "execute_result"
    }
   ],
   "source": [
    "query = \"\"\"with count_per_order as (\n",
    "select o.order_id,o.customer_id,count(oi.order_id) as count_orders\n",
    "from orders2 o join order_items oi\n",
    "on o.order_id = oi.order_id\n",
    "group by o.order_id,o.customer_id\n",
    ")\n",
    "select c.customer_city,round(avg(co.count_orders),2) as avg_orders\n",
    "from customers c join count_per_order co\n",
    "on c.customer_id = co.customer_id\n",
    "group by c.customer_city\n",
    "order by avg_orders desc\"\"\"\n",
    "\n",
    "cur.execute(query)\n",
    "data = cur.fetchall()\n",
    "df = pd.DataFrame(data,columns = [\"City\",\"Avg_orders\"])\n",
    "df"
   ]
  },
  {
   "cell_type": "markdown",
   "id": "a2b6d92e-c63d-4c24-b4c8-15cd2ce735cf",
   "metadata": {},
   "source": [
    "# Calculate the percentage of total revenue contributed by each product category."
   ]
  },
  {
   "cell_type": "code",
   "execution_count": 16,
   "id": "95504c03-35b3-4861-8904-027fcc00bd40",
   "metadata": {},
   "outputs": [
    {
     "data": {
      "text/html": [
       "<div>\n",
       "<style scoped>\n",
       "    .dataframe tbody tr th:only-of-type {\n",
       "        vertical-align: middle;\n",
       "    }\n",
       "\n",
       "    .dataframe tbody tr th {\n",
       "        vertical-align: top;\n",
       "    }\n",
       "\n",
       "    .dataframe thead th {\n",
       "        text-align: right;\n",
       "    }\n",
       "</style>\n",
       "<table border=\"1\" class=\"dataframe\">\n",
       "  <thead>\n",
       "    <tr style=\"text-align: right;\">\n",
       "      <th></th>\n",
       "      <th>category</th>\n",
       "      <th>percentage_count</th>\n",
       "    </tr>\n",
       "  </thead>\n",
       "  <tbody>\n",
       "    <tr>\n",
       "      <th>0</th>\n",
       "      <td>bed table bath</td>\n",
       "      <td>10.70</td>\n",
       "    </tr>\n",
       "    <tr>\n",
       "      <th>1</th>\n",
       "      <td>HEALTH BEAUTY</td>\n",
       "      <td>10.35</td>\n",
       "    </tr>\n",
       "    <tr>\n",
       "      <th>2</th>\n",
       "      <td>computer accessories</td>\n",
       "      <td>9.90</td>\n",
       "    </tr>\n",
       "    <tr>\n",
       "      <th>3</th>\n",
       "      <td>Furniture Decoration</td>\n",
       "      <td>8.93</td>\n",
       "    </tr>\n",
       "    <tr>\n",
       "      <th>4</th>\n",
       "      <td>Watches present</td>\n",
       "      <td>8.93</td>\n",
       "    </tr>\n",
       "    <tr>\n",
       "      <th>...</th>\n",
       "      <td>...</td>\n",
       "      <td>...</td>\n",
       "    </tr>\n",
       "    <tr>\n",
       "      <th>69</th>\n",
       "      <td>House Comfort 2</td>\n",
       "      <td>0.01</td>\n",
       "    </tr>\n",
       "    <tr>\n",
       "      <th>70</th>\n",
       "      <td>cds music dvds</td>\n",
       "      <td>0.01</td>\n",
       "    </tr>\n",
       "    <tr>\n",
       "      <th>71</th>\n",
       "      <td>PC Gamer</td>\n",
       "      <td>0.01</td>\n",
       "    </tr>\n",
       "    <tr>\n",
       "      <th>72</th>\n",
       "      <td>Fashion Children's Clothing</td>\n",
       "      <td>0.00</td>\n",
       "    </tr>\n",
       "    <tr>\n",
       "      <th>73</th>\n",
       "      <td>insurance and services</td>\n",
       "      <td>0.00</td>\n",
       "    </tr>\n",
       "  </tbody>\n",
       "</table>\n",
       "<p>74 rows × 2 columns</p>\n",
       "</div>"
      ],
      "text/plain": [
       "                       category  percentage_count\n",
       "0                bed table bath             10.70\n",
       "1                 HEALTH BEAUTY             10.35\n",
       "2          computer accessories              9.90\n",
       "3          Furniture Decoration              8.93\n",
       "4               Watches present              8.93\n",
       "..                          ...               ...\n",
       "69              House Comfort 2              0.01\n",
       "70               cds music dvds              0.01\n",
       "71                     PC Gamer              0.01\n",
       "72  Fashion Children's Clothing              0.00\n",
       "73       insurance and services              0.00\n",
       "\n",
       "[74 rows x 2 columns]"
      ]
     },
     "execution_count": 16,
     "metadata": {},
     "output_type": "execute_result"
    }
   ],
   "source": [
    "query = \"\"\"select prod.product_category as category\n",
    ",round((sum(p.payment_value)/(select sum(payment_value) from payments)*100.0),2) as percentage_count\n",
    "from products1 prod join order_items oi\n",
    "on prod.product_id = oi.product_id\n",
    "join payments p \n",
    "on p.order_id = oi.order_id\n",
    "group by category\n",
    "order by percentage_count desc\"\"\"\n",
    "\n",
    "cur.execute(query)\n",
    "data = cur.fetchall()\n",
    "df = pd.DataFrame(data,columns=[\"category\",\"percentage_count\"])\n",
    "df"
   ]
  },
  {
   "cell_type": "markdown",
   "id": "92dec8c2-c0ef-47d1-b236-b83e05a55de4",
   "metadata": {},
   "source": [
    "# Identify the correlation between product price and the number of times a product has been purchased."
   ]
  },
  {
   "cell_type": "code",
   "execution_count": 24,
   "id": "b3b25de3-77a8-40a2-8ad4-5ab687f4a5e4",
   "metadata": {},
   "outputs": [
    {
     "name": "stdout",
     "output_type": "stream",
     "text": [
      "the correlation is -0.10631514167157562\n"
     ]
    }
   ],
   "source": [
    "import numpy as np\n",
    "query = \"\"\"select products1.product_category, \n",
    "count(order_items.product_id),\n",
    "round(avg(order_items.price),2)\n",
    "from products1 join order_items\n",
    "on products1.product_id = order_items.product_id\n",
    "group by products1.product_category\"\"\"\n",
    "\n",
    "cur.execute(query)\n",
    "data = cur.fetchall()\n",
    "df = pd.DataFrame(data,columns = [\"Category\", \"order_count\",\"price\"])\n",
    "arr1 = df[\"order_count\"]\n",
    "arr2 = df[\"price\"]\n",
    "\n",
    "a = np.corrcoef([arr1,arr2])\n",
    "print(\"the correlation is\", a[0][-1])"
   ]
  },
  {
   "cell_type": "markdown",
   "id": "32308461-9007-40ff-bb8d-1cb7ced1fa42",
   "metadata": {},
   "source": [
    "# Calculate the total revenue generated by each seller, and rank them by revenue."
   ]
  },
  {
   "cell_type": "code",
   "execution_count": 2,
   "id": "7cc6b652-850b-4ada-a0fc-fe1f58c37601",
   "metadata": {},
   "outputs": [
    {
     "data": {
      "image/png": "[encoded data removed]",
      "text/plain": [
       "<Figure size 640x480 with 1 Axes>"
      ]
     },
     "metadata": {},
     "output_type": "display_data"
    }
   ],
   "source": [
    "query = \"\"\" select *, dense_rank() over(order by revenue desc) as rn from\n",
    "(select order_items.seller_id, sum(payments.payment_value)\n",
    "revenue from order_items join payments\n",
    "on order_items.order_id = payments.order_id\n",
    "group by order_items.seller_id) as a \"\"\"\n",
    "\n",
    "cur.execute(query)\n",
    "data = cur.fetchall()\n",
    "df = pd.DataFrame(data, columns = [\"seller_id\", \"revenue\", \"rank\"])\n",
    "df = df.head()\n",
    "sns.barplot(x = \"seller_id\", y = \"revenue\", data = df)\n",
    "plt.xticks(rotation = 90)\n",
    "plt.show()"
   ]
  },
  {
   "cell_type": "markdown",
   "id": "68ba61d0-bb92-4d72-b9a1-92c19e6c18f0",
   "metadata": {},
   "source": [
    "# Calculate the moving average of order values for each customer over their order history."
   ]
  },
  {
   "cell_type": "code",
   "execution_count": 3,
   "id": "89b82574-ea16-4e16-b94c-d72f8137f955",
   "metadata": {},
   "outputs": [
    {
     "data": {
      "text/html": [
       "<div>\n",
       "<style scoped>\n",
       "    .dataframe tbody tr th:only-of-type {\n",
       "        vertical-align: middle;\n",
       "    }\n",
       "\n",
       "    .dataframe tbody tr th {\n",
       "        vertical-align: top;\n",
       "    }\n",
       "\n",
       "    .dataframe thead th {\n",
       "        text-align: right;\n",
       "    }\n",
       "</style>\n",
       "<table border=\"1\" class=\"dataframe\">\n",
       "  <thead>\n",
       "    <tr style=\"text-align: right;\">\n",
       "      <th></th>\n",
       "      <th>0</th>\n",
       "      <th>1</th>\n",
       "      <th>2</th>\n",
       "      <th>3</th>\n",
       "    </tr>\n",
       "  </thead>\n",
       "  <tbody>\n",
       "    <tr>\n",
       "      <th>0</th>\n",
       "      <td>00012a2ce6f8dcda20d059ce98491703</td>\n",
       "      <td>2017-11-14 16:08:26</td>\n",
       "      <td>114.74</td>\n",
       "      <td>114.739998</td>\n",
       "    </tr>\n",
       "    <tr>\n",
       "      <th>1</th>\n",
       "      <td>000161a058600d5901f007fab4c27140</td>\n",
       "      <td>2017-07-16 09:40:32</td>\n",
       "      <td>67.41</td>\n",
       "      <td>67.410004</td>\n",
       "    </tr>\n",
       "    <tr>\n",
       "      <th>2</th>\n",
       "      <td>0001fd6190edaaf884bcaf3d49edf079</td>\n",
       "      <td>2017-02-28 11:06:43</td>\n",
       "      <td>195.42</td>\n",
       "      <td>195.419998</td>\n",
       "    </tr>\n",
       "    <tr>\n",
       "      <th>3</th>\n",
       "      <td>0002414f95344307404f0ace7a26f1d5</td>\n",
       "      <td>2017-08-16 13:09:20</td>\n",
       "      <td>179.35</td>\n",
       "      <td>179.350006</td>\n",
       "    </tr>\n",
       "    <tr>\n",
       "      <th>4</th>\n",
       "      <td>000379cdec625522490c315e70c7a9fb</td>\n",
       "      <td>2018-04-02 13:42:17</td>\n",
       "      <td>107.01</td>\n",
       "      <td>107.010002</td>\n",
       "    </tr>\n",
       "    <tr>\n",
       "      <th>...</th>\n",
       "      <td>...</td>\n",
       "      <td>...</td>\n",
       "      <td>...</td>\n",
       "      <td>...</td>\n",
       "    </tr>\n",
       "    <tr>\n",
       "      <th>103881</th>\n",
       "      <td>fffecc9f79fd8c764f843e9951b11341</td>\n",
       "      <td>2018-03-29 16:59:26</td>\n",
       "      <td>71.23</td>\n",
       "      <td>27.120001</td>\n",
       "    </tr>\n",
       "    <tr>\n",
       "      <th>103882</th>\n",
       "      <td>fffeda5b6d849fbd39689bb92087f431</td>\n",
       "      <td>2018-05-22 13:36:02</td>\n",
       "      <td>63.13</td>\n",
       "      <td>63.130001</td>\n",
       "    </tr>\n",
       "    <tr>\n",
       "      <th>103883</th>\n",
       "      <td>ffff42319e9b2d713724ae527742af25</td>\n",
       "      <td>2018-06-13 16:57:05</td>\n",
       "      <td>214.13</td>\n",
       "      <td>214.130005</td>\n",
       "    </tr>\n",
       "    <tr>\n",
       "      <th>103884</th>\n",
       "      <td>ffffa3172527f765de70084a7e53aae8</td>\n",
       "      <td>2017-09-02 11:53:32</td>\n",
       "      <td>45.50</td>\n",
       "      <td>45.500000</td>\n",
       "    </tr>\n",
       "    <tr>\n",
       "      <th>103885</th>\n",
       "      <td>ffffe8b65bbe3087b653a978c870db99</td>\n",
       "      <td>2017-09-29 14:07:03</td>\n",
       "      <td>18.37</td>\n",
       "      <td>18.370001</td>\n",
       "    </tr>\n",
       "  </tbody>\n",
       "</table>\n",
       "<p>103886 rows × 4 columns</p>\n",
       "</div>"
      ],
      "text/plain": [
       "                                       0                    1       2  \\\n",
       "0       00012a2ce6f8dcda20d059ce98491703  2017-11-14 16:08:26  114.74   \n",
       "1       000161a058600d5901f007fab4c27140  2017-07-16 09:40:32   67.41   \n",
       "2       0001fd6190edaaf884bcaf3d49edf079  2017-02-28 11:06:43  195.42   \n",
       "3       0002414f95344307404f0ace7a26f1d5  2017-08-16 13:09:20  179.35   \n",
       "4       000379cdec625522490c315e70c7a9fb  2018-04-02 13:42:17  107.01   \n",
       "...                                  ...                  ...     ...   \n",
       "103881  fffecc9f79fd8c764f843e9951b11341  2018-03-29 16:59:26   71.23   \n",
       "103882  fffeda5b6d849fbd39689bb92087f431  2018-05-22 13:36:02   63.13   \n",
       "103883  ffff42319e9b2d713724ae527742af25  2018-06-13 16:57:05  214.13   \n",
       "103884  ffffa3172527f765de70084a7e53aae8  2017-09-02 11:53:32   45.50   \n",
       "103885  ffffe8b65bbe3087b653a978c870db99  2017-09-29 14:07:03   18.37   \n",
       "\n",
       "                 3  \n",
       "0       114.739998  \n",
       "1        67.410004  \n",
       "2       195.419998  \n",
       "3       179.350006  \n",
       "4       107.010002  \n",
       "...            ...  \n",
       "103881   27.120001  \n",
       "103882   63.130001  \n",
       "103883  214.130005  \n",
       "103884   45.500000  \n",
       "103885   18.370001  \n",
       "\n",
       "[103886 rows x 4 columns]"
      ]
     },
     "execution_count": 3,
     "metadata": {},
     "output_type": "execute_result"
    }
   ],
   "source": [
    "query = \"\"\"select customer_id,order_purchase_timestamp,payment\n",
    ",avg(payment) over (partition by customer_id order by order_purchase_timestamp rows between 2 preceding and current row) as\n",
    "mov_avg from \n",
    "(select o.customer_id,o.order_purchase_timestamp,p.payment_value as payment\n",
    "from orders2 o join payments p \n",
    "on p.order_id = o.order_id) a\"\"\"\n",
    "cur.execute(query)\n",
    "data = cur.fetchall()\n",
    "df = pd.DataFrame(data)\n",
    "df"
   ]
  },
  {
   "cell_type": "markdown",
   "id": "e63497ec-8f3a-4d3a-85e9-6a2d6b6df8fc",
   "metadata": {},
   "source": [
    "# Calculate the cumulative sales per month for each year."
   ]
  },
  {
   "cell_type": "code",
   "execution_count": 5,
   "id": "5b4a9d33-e718-4e76-913a-d55cf933bf74",
   "metadata": {},
   "outputs": [
    {
     "data": {
      "text/html": [
       "<div>\n",
       "<style scoped>\n",
       "    .dataframe tbody tr th:only-of-type {\n",
       "        vertical-align: middle;\n",
       "    }\n",
       "\n",
       "    .dataframe tbody tr th {\n",
       "        vertical-align: top;\n",
       "    }\n",
       "\n",
       "    .dataframe thead th {\n",
       "        text-align: right;\n",
       "    }\n",
       "</style>\n",
       "<table border=\"1\" class=\"dataframe\">\n",
       "  <thead>\n",
       "    <tr style=\"text-align: right;\">\n",
       "      <th></th>\n",
       "      <th>0</th>\n",
       "      <th>1</th>\n",
       "      <th>2</th>\n",
       "      <th>3</th>\n",
       "    </tr>\n",
       "  </thead>\n",
       "  <tbody>\n",
       "    <tr>\n",
       "      <th>0</th>\n",
       "      <td>2016</td>\n",
       "      <td>9</td>\n",
       "      <td>252.24</td>\n",
       "      <td>252.24</td>\n",
       "    </tr>\n",
       "    <tr>\n",
       "      <th>1</th>\n",
       "      <td>2016</td>\n",
       "      <td>10</td>\n",
       "      <td>59090.48</td>\n",
       "      <td>59342.72</td>\n",
       "    </tr>\n",
       "    <tr>\n",
       "      <th>2</th>\n",
       "      <td>2016</td>\n",
       "      <td>12</td>\n",
       "      <td>19.62</td>\n",
       "      <td>59362.34</td>\n",
       "    </tr>\n",
       "    <tr>\n",
       "      <th>3</th>\n",
       "      <td>2017</td>\n",
       "      <td>1</td>\n",
       "      <td>138488.04</td>\n",
       "      <td>197850.38</td>\n",
       "    </tr>\n",
       "    <tr>\n",
       "      <th>4</th>\n",
       "      <td>2017</td>\n",
       "      <td>2</td>\n",
       "      <td>291908.01</td>\n",
       "      <td>489758.39</td>\n",
       "    </tr>\n",
       "  </tbody>\n",
       "</table>\n",
       "</div>"
      ],
      "text/plain": [
       "      0   1          2          3\n",
       "0  2016   9     252.24     252.24\n",
       "1  2016  10   59090.48   59342.72\n",
       "2  2016  12      19.62   59362.34\n",
       "3  2017   1  138488.04  197850.38\n",
       "4  2017   2  291908.01  489758.39"
      ]
     },
     "execution_count": 5,
     "metadata": {},
     "output_type": "execute_result"
    }
   ],
   "source": [
    "query = \"\"\"select years, months , payment, sum(payment)\n",
    "over(order by years, months) cumulative_sales from \n",
    "(select year(o.order_purchase_timestamp) as years,\n",
    "month(o.order_purchase_timestamp) as months,\n",
    "round(sum(p.payment_value),2) as payment from orders2 o join payments p\n",
    "on o.order_id = p.order_id\n",
    "group by years, months order by years, months) as a\"\"\"\n",
    "\n",
    "cur.execute(query)\n",
    "data = cur.fetchall()\n",
    "df = pd.DataFrame(data)\n",
    "df.head()"
   ]
  },
  {
   "cell_type": "markdown",
   "id": "f039dd17-6534-4278-995e-746fb6a2f671",
   "metadata": {},
   "source": [
    "# Calculate the year-over-year growth rate of total sales."
   ]
  },
  {
   "cell_type": "code",
   "execution_count": 6,
   "id": "4ecad7d0-0350-408f-8504-1a8b72f69981",
   "metadata": {},
   "outputs": [
    {
     "data": {
      "text/html": [
       "<div>\n",
       "<style scoped>\n",
       "    .dataframe tbody tr th:only-of-type {\n",
       "        vertical-align: middle;\n",
       "    }\n",
       "\n",
       "    .dataframe tbody tr th {\n",
       "        vertical-align: top;\n",
       "    }\n",
       "\n",
       "    .dataframe thead th {\n",
       "        text-align: right;\n",
       "    }\n",
       "</style>\n",
       "<table border=\"1\" class=\"dataframe\">\n",
       "  <thead>\n",
       "    <tr style=\"text-align: right;\">\n",
       "      <th></th>\n",
       "      <th>Years</th>\n",
       "      <th>YOY</th>\n",
       "    </tr>\n",
       "  </thead>\n",
       "  <tbody>\n",
       "    <tr>\n",
       "      <th>0</th>\n",
       "      <td>2016</td>\n",
       "      <td>NaN</td>\n",
       "    </tr>\n",
       "    <tr>\n",
       "      <th>1</th>\n",
       "      <td>2017</td>\n",
       "      <td>12112.7</td>\n",
       "    </tr>\n",
       "    <tr>\n",
       "      <th>2</th>\n",
       "      <td>2018</td>\n",
       "      <td>20.0</td>\n",
       "    </tr>\n",
       "  </tbody>\n",
       "</table>\n",
       "</div>"
      ],
      "text/plain": [
       "   Years      YOY\n",
       "0   2016      NaN\n",
       "1   2017  12112.7\n",
       "2   2018     20.0"
      ]
     },
     "execution_count": 6,
     "metadata": {},
     "output_type": "execute_result"
    }
   ],
   "source": [
    "query = \"\"\"with cte as (\n",
    "select year(order_purchase_timestamp) as years,sum(payment_value) as payment\n",
    "from orders2 o join payments p\n",
    "on o.order_id = p.order_id\n",
    "group by years\n",
    "order by years\n",
    "),cte2 as (\n",
    "select *,lag(payment,1) over (order by years) as prev_order_sales\n",
    "from cte\n",
    ")\n",
    "select years,round((payment - prev_order_sales)*100.0/prev_order_sales,2) as YOY\n",
    "from cte2\"\"\"\n",
    "\n",
    "cur.execute(query)\n",
    "data = cur.fetchall()\n",
    "df = pd.DataFrame(data,columns = [\"Years\",\"YOY\"])\n",
    "df"
   ]
  },
  {
   "cell_type": "markdown",
   "id": "a4afcd2d-ea70-48e2-962e-0f15655ff576",
   "metadata": {},
   "source": [
    "# Calculate the retention rate of customers, defined as the percentage of customers who make another purchase within 6 months of their first purchase."
   ]
  },
  {
   "cell_type": "code",
   "execution_count": 7,
   "id": "293591d9-3027-4813-bb59-77d42058aee4",
   "metadata": {},
   "outputs": [
    {
     "data": {
      "text/plain": [
       "[(None,)]"
      ]
     },
     "execution_count": 7,
     "metadata": {},
     "output_type": "execute_result"
    }
   ],
   "source": [
    "query = \"\"\"with a as (\n",
    "select c.customer_id,min(order_purchase_timestamp) as first_order\n",
    "from customers c join orders2 o\n",
    "on c.customer_id = o.customer_id\n",
    "group by c.customer_id\n",
    "),\n",
    "b as (select a.customer_id,count(distinct o.order_purchase_timestamp) as next_order\n",
    "from a join orders2 o\n",
    "on o.customer_id = a.customer_id\n",
    "and o.order_purchase_timestamp > first_order\n",
    "and o.order_purchase_timestamp < \n",
    "date_add(first_order,interval 6 month)\n",
    "group by a.customer_id)\n",
    "select 100 * (count( distinct a.customer_id)/ count(distinct b.customer_id)) as retention\n",
    "from a left join b \n",
    "on a.customer_id = b.customer_id ;\"\"\"\n",
    "\n",
    "cur.execute(query)\n",
    "data = cur.fetchall()\n",
    "data"
   ]
  },
  {
   "cell_type": "markdown",
   "id": "1777e928-d786-4b5c-9973-daad9a7d5dc0",
   "metadata": {},
   "source": [
    "# Identify the top 3 customers who spent the most money in each year."
   ]
  },
  {
   "cell_type": "code",
   "execution_count": 10,
   "id": "6d345747-f77a-43f6-81bb-f377ef2970d7",
   "metadata": {},
   "outputs": [
    {
     "data": {
      "image/png": "[encoded data removed]",
      "text/plain": [
       "<Figure size 640x480 with 1 Axes>"
      ]
     },
     "metadata": {},
     "output_type": "display_data"
    }
   ],
   "source": [
    "query = \"\"\"select years, customer_id, payment, d_rank\n",
    "from\n",
    "(select year(orders2.order_purchase_timestamp) years,\n",
    "orders2.customer_id,\n",
    "sum(payments.payment_value) payment,\n",
    "dense_rank() over(partition by year(orders2.order_purchase_timestamp)\n",
    "order by sum(payments.payment_value) desc) d_rank\n",
    "from orders2 join payments \n",
    "on payments.order_id = orders2.order_id\n",
    "group by year(orders2.order_purchase_timestamp),\n",
    "orders2.customer_id) as a\n",
    "where d_rank <= 3 ;\"\"\"\n",
    "\n",
    "cur.execute(query)\n",
    "data = cur.fetchall()\n",
    "df = pd.DataFrame(data, columns = [\"years\",\"id\",\"payment\",\"rank\"])\n",
    "sns.barplot(x = \"id\", y = \"payment\", data = df, hue = \"years\")\n",
    "plt.xticks(rotation = 90)\n",
    "plt.show()"
   ]
  },
  {
   "cell_type": "code",
   "execution_count": null,
   "id": "be3372ab-dc3b-4e12-aeba-807efdad20d1",
   "metadata": {},
   "outputs": [],
   "source": []
  }
 ],
 "metadata": {
  "kernelspec": {
   "display_name": "Python 3 (ipykernel)",
   "language": "python",
   "name": "python3"
  },
  "language_info": {
   "codemirror_mode": {
    "name": "ipython",
    "version": 3
   },
   "file_extension": ".py",
   "mimetype": "text/x-python",
   "name": "python",
   "nbconvert_exporter": "python",
   "pygments_lexer": "ipython3",
   "version": "3.12.7"
  }
 },
 "nbformat": 4,
 "nbformat_minor": 5
}
